{
 "cells": [
  {
   "cell_type": "code",
   "execution_count": 90,
   "metadata": {},
   "outputs": [
    {
     "name": "stdout",
     "output_type": "stream",
     "text": [
      "The sql extension is already loaded. To reload it, use:\n",
      "  %reload_ext sql\n"
     ]
    },
    {
     "data": {
      "text/plain": [
       "'Connected: @lab2.db3'"
      ]
     },
     "execution_count": 90,
     "metadata": {},
     "output_type": "execute_result"
    }
   ],
   "source": [
    "%load_ext sql\n",
    "%sql sqlite:///lab2.db3"
   ]
  },
  {
   "cell_type": "markdown",
   "metadata": {},
   "source": [
    "# Q2: Write SQL statements to create the three tables and insert the data"
   ]
  },
  {
   "cell_type": "code",
   "execution_count": 91,
   "metadata": {},
   "outputs": [],
   "source": [
    "# CREATE TABLE 1 : SAILORS"
   ]
  },
  {
   "cell_type": "code",
   "execution_count": 92,
   "metadata": {},
   "outputs": [
    {
     "name": "stdout",
     "output_type": "stream",
     "text": [
      "Done.\n",
      "Done.\n"
     ]
    },
    {
     "data": {
      "text/plain": [
       "[]"
      ]
     },
     "execution_count": 92,
     "metadata": {},
     "output_type": "execute_result"
    }
   ],
   "source": [
    "%%sql sqlite://\n",
    "drop table if exists Sailors;\n",
    "CREATE TABLE Sailors(\n",
    "    sid VARCHAR(10), \n",
    "    sname CHAR(10) NOT NULL, \n",
    "    rating int NOT NULL,\n",
    "    age double NOT NULL\n",
    ");"
   ]
  },
  {
   "cell_type": "code",
   "execution_count": 93,
   "metadata": {},
   "outputs": [],
   "source": [
    "# CREATE TABLE 2 : RESERVES"
   ]
  },
  {
   "cell_type": "code",
   "execution_count": 94,
   "metadata": {},
   "outputs": [
    {
     "name": "stdout",
     "output_type": "stream",
     "text": [
      "Done.\n",
      "Done.\n"
     ]
    },
    {
     "data": {
      "text/plain": [
       "[]"
      ]
     },
     "execution_count": 94,
     "metadata": {},
     "output_type": "execute_result"
    }
   ],
   "source": [
    "%%sql sqlite://\n",
    "drop table if exists Reserves;\n",
    "CREATE TABLE Reserves(\n",
    "    sid VARCHAR(10),\n",
    "    bid VARCHAR(10), \n",
    "    day date NOT NULL\n",
    ");"
   ]
  },
  {
   "cell_type": "code",
   "execution_count": 95,
   "metadata": {},
   "outputs": [],
   "source": [
    "# CREATE TABLE 3 : BOATS"
   ]
  },
  {
   "cell_type": "code",
   "execution_count": 96,
   "metadata": {},
   "outputs": [
    {
     "name": "stdout",
     "output_type": "stream",
     "text": [
      "Done.\n",
      "Done.\n"
     ]
    },
    {
     "data": {
      "text/plain": [
       "[]"
      ]
     },
     "execution_count": 96,
     "metadata": {},
     "output_type": "execute_result"
    }
   ],
   "source": [
    "%%sql sqlite://\n",
    "drop table if exists Boats;\n",
    "CREATE TABLE Boats(\n",
    "    bid VARCHAR(10), \n",
    "    name CHAR(10), \n",
    "    color CHAR(10)\n",
    ");"
   ]
  },
  {
   "cell_type": "code",
   "execution_count": 97,
   "metadata": {},
   "outputs": [],
   "source": [
    "# STORE DATA INTO TABLES FOR TESTING"
   ]
  },
  {
   "cell_type": "code",
   "execution_count": 98,
   "metadata": {},
   "outputs": [
    {
     "name": "stdout",
     "output_type": "stream",
     "text": [
      " * sqlite:///lab2.db3\n",
      "Done.\n",
      "1 rows affected.\n",
      "1 rows affected.\n",
      "1 rows affected.\n",
      "1 rows affected.\n",
      "1 rows affected.\n",
      "Done.\n",
      "1 rows affected.\n",
      "1 rows affected.\n",
      "1 rows affected.\n",
      "1 rows affected.\n",
      "1 rows affected.\n",
      "Done.\n",
      "1 rows affected.\n",
      "1 rows affected.\n",
      "1 rows affected.\n"
     ]
    },
    {
     "data": {
      "text/plain": [
       "[]"
      ]
     },
     "execution_count": 98,
     "metadata": {},
     "output_type": "execute_result"
    }
   ],
   "source": [
    "%%sql \n",
    "-- data for sailors table --\n",
    "insert into Sailors values (22, 'dustin', 7, 45.0);\n",
    "insert into Sailors values (31, 'lubber', 8, 55.5);\n",
    "insert into Sailors values (58, 'rusty', 10, 35.0);\n",
    "insert into Sailors values (7, 'lowry', 8, 35.0);\n",
    "insert into Sailors values (2, 'kawhi', 10, 29.0);\n",
    "insert into Sailors values (30, 'stephen', 9, 33.3);\n",
    "\n",
    "-- data for reserves table -- \n",
    "insert into Reserves values (22, 110, '10/10/1998');\n",
    "insert into Reserves values (58, 103, '11/12/1996');\n",
    "insert into Reserves values (7, 112, '6/21/1991');\n",
    "insert into Reserves values (30, 115, '3/14/1988');\n",
    "insert into Reserves values (2, 112, '6/21/1991');\n",
    "insert into Reserves values (2, 103, '8/24/2000');\n",
    "\n",
    "-- data for boats table -- \n",
    "insert into Boats values (110, 'interlake', 'green');\n",
    "insert into Boats values (103, 'clippers', 'blue');\n",
    "insert into Boats values (112, 'raptors', 'red');\n",
    "insert into Boats values (115, 'warriors', 'blue');\n"
   ]
  },
  {
   "cell_type": "markdown",
   "metadata": {},
   "source": [
    "# Q3: Find names of sailors who’ve reserved boat #110"
   ]
  },
  {
   "cell_type": "code",
   "execution_count": 99,
   "metadata": {},
   "outputs": [],
   "source": [
    "# RETURNS DISTINCT SAILOR NAMES"
   ]
  },
  {
   "cell_type": "code",
   "execution_count": 100,
   "metadata": {},
   "outputs": [
    {
     "name": "stdout",
     "output_type": "stream",
     "text": [
      " * sqlite:///lab2.db3\n",
      "Done.\n"
     ]
    },
    {
     "data": {
      "text/html": [
       "<table>\n",
       "    <thead>\n",
       "        <tr>\n",
       "            <th>sname</th>\n",
       "        </tr>\n",
       "    </thead>\n",
       "    <tbody>\n",
       "        <tr>\n",
       "            <td>dustin</td>\n",
       "        </tr>\n",
       "    </tbody>\n",
       "</table>"
      ],
      "text/plain": [
       "[('dustin',)]"
      ]
     },
     "execution_count": 100,
     "metadata": {},
     "output_type": "execute_result"
    }
   ],
   "source": [
    "%%sql\n",
    "SELECT DISTINCT S.sname\n",
    "FROM Sailors S, Reserves R\n",
    "WHERE S.sid = R.sid AND R.bid = 110"
   ]
  },
  {
   "cell_type": "code",
   "execution_count": 101,
   "metadata": {},
   "outputs": [],
   "source": [
    "# FOR PRACTICE PURPOSES\n",
    "# NESTED QUERY THAT RETURNS NAMES OF SAILORS WHO RESERVED BOAT #110"
   ]
  },
  {
   "cell_type": "code",
   "execution_count": 102,
   "metadata": {},
   "outputs": [
    {
     "name": "stdout",
     "output_type": "stream",
     "text": [
      " * sqlite:///lab2.db3\n",
      "Done.\n"
     ]
    },
    {
     "data": {
      "text/html": [
       "<table>\n",
       "    <thead>\n",
       "        <tr>\n",
       "            <th>sname</th>\n",
       "        </tr>\n",
       "    </thead>\n",
       "    <tbody>\n",
       "        <tr>\n",
       "            <td>dustin</td>\n",
       "        </tr>\n",
       "    </tbody>\n",
       "</table>"
      ],
      "text/plain": [
       "[('dustin',)]"
      ]
     },
     "execution_count": 102,
     "metadata": {},
     "output_type": "execute_result"
    }
   ],
   "source": [
    "%%sql\n",
    "SELECT DISTINCT S.sname\n",
    "FROM Sailors S\n",
    "WHERE S.sid IN ( SELECT R.sid\n",
    "                 FROM Reserves R\n",
    "                 WHERE R.bid = 110 )"
   ]
  },
  {
   "cell_type": "markdown",
   "metadata": {},
   "source": [
    "# Q4: Find names of sailors who’ve reserved a red boat"
   ]
  },
  {
   "cell_type": "code",
   "execution_count": 103,
   "metadata": {},
   "outputs": [],
   "source": [
    "# RETURNS DISTINCT SAILOR NAMES"
   ]
  },
  {
   "cell_type": "code",
   "execution_count": 104,
   "metadata": {},
   "outputs": [
    {
     "name": "stdout",
     "output_type": "stream",
     "text": [
      " * sqlite:///lab2.db3\n",
      "Done.\n"
     ]
    },
    {
     "data": {
      "text/html": [
       "<table>\n",
       "    <thead>\n",
       "        <tr>\n",
       "            <th>sname</th>\n",
       "        </tr>\n",
       "    </thead>\n",
       "    <tbody>\n",
       "        <tr>\n",
       "            <td>kawhi</td>\n",
       "        </tr>\n",
       "        <tr>\n",
       "            <td>lowry</td>\n",
       "        </tr>\n",
       "    </tbody>\n",
       "</table>"
      ],
      "text/plain": [
       "[('kawhi',), ('lowry',)]"
      ]
     },
     "execution_count": 104,
     "metadata": {},
     "output_type": "execute_result"
    }
   ],
   "source": [
    "%%sql\n",
    "SELECT DISTINCT S.sname\n",
    "FROM Sailors S, Reserves R, Boats B\n",
    "WHERE S.sid = R.sid AND R.bid = B.bid AND B.color = 'red'"
   ]
  },
  {
   "cell_type": "markdown",
   "metadata": {},
   "source": [
    "# Q5: Find names of sailors who’ve reserved a red or a blue boat"
   ]
  },
  {
   "cell_type": "code",
   "execution_count": 105,
   "metadata": {},
   "outputs": [],
   "source": [
    "# RETURNS DISTINCT SAILOR NAMES FOR RED OR BLUE BOATS USING UNION"
   ]
  },
  {
   "cell_type": "code",
   "execution_count": 106,
   "metadata": {},
   "outputs": [
    {
     "name": "stdout",
     "output_type": "stream",
     "text": [
      " * sqlite:///lab2.db3\n",
      "Done.\n"
     ]
    },
    {
     "data": {
      "text/html": [
       "<table>\n",
       "    <thead>\n",
       "        <tr>\n",
       "            <th>sname</th>\n",
       "        </tr>\n",
       "    </thead>\n",
       "    <tbody>\n",
       "        <tr>\n",
       "            <td>kawhi</td>\n",
       "        </tr>\n",
       "        <tr>\n",
       "            <td>lowry</td>\n",
       "        </tr>\n",
       "        <tr>\n",
       "            <td>rusty</td>\n",
       "        </tr>\n",
       "        <tr>\n",
       "            <td>stephen</td>\n",
       "        </tr>\n",
       "    </tbody>\n",
       "</table>"
      ],
      "text/plain": [
       "[('kawhi',), ('lowry',), ('rusty',), ('stephen',)]"
      ]
     },
     "execution_count": 106,
     "metadata": {},
     "output_type": "execute_result"
    }
   ],
   "source": [
    "%%sql\n",
    "SELECT DISTINCT S.sname\n",
    "FROM Sailors S, Reserves R, Boats B\n",
    "WHERE S.sid = R.sid AND R.bid = B.bid AND B.color = 'red'\n",
    "UNION \n",
    "SELECT S2.sname\n",
    "FROM Sailors S2, Reserves R2, Boats B2\n",
    "WHERE S2.sid = R2.sid AND R2.bid = B2.bid AND B2.color = 'blue' "
   ]
  },
  {
   "cell_type": "markdown",
   "metadata": {},
   "source": [
    "# Q6: Find names of sailors who’ve reserved a red and a blue boat "
   ]
  },
  {
   "cell_type": "code",
   "execution_count": 107,
   "metadata": {},
   "outputs": [],
   "source": [
    "# USE NESTED QUERY TO FIND RED AND BLUE FOR BOAT COLORS USING INTERSECT\n",
    "# THE 'IN' OPERATOR CHECKS IF A CERTAIN VALUE IS IN THE TABLE RETURNED BY THE SUBQUERY "
   ]
  },
  {
   "cell_type": "code",
   "execution_count": 108,
   "metadata": {},
   "outputs": [
    {
     "name": "stdout",
     "output_type": "stream",
     "text": [
      " * sqlite:///lab2.db3\n",
      "Done.\n"
     ]
    },
    {
     "data": {
      "text/html": [
       "<table>\n",
       "    <thead>\n",
       "        <tr>\n",
       "            <th>sname</th>\n",
       "        </tr>\n",
       "    </thead>\n",
       "    <tbody>\n",
       "        <tr>\n",
       "            <td>kawhi</td>\n",
       "        </tr>\n",
       "    </tbody>\n",
       "</table>"
      ],
      "text/plain": [
       "[('kawhi',)]"
      ]
     },
     "execution_count": 108,
     "metadata": {},
     "output_type": "execute_result"
    }
   ],
   "source": [
    "%%sql\n",
    "SELECT DISTINCT S.sname\n",
    "FROM Sailors S\n",
    "WHERE S.sid IN ( SELECT S1.sid \n",
    "                 FROM Sailors S1, Reserves R1, Boats B1\n",
    "                 WHERE S1.sid = R1.sid AND R1.bid = B1.bid AND B1.color = 'red' \n",
    "                 INTERSECT\n",
    "                 SELECT S2.sid\n",
    "                 FROM Sailors S2, Reserves R2, Boats B2\n",
    "                 WHERE S2.sid = R2.sid AND R2.bid = B2.bid AND B2.color = 'blue'\n",
    "               )"
   ]
  },
  {
   "cell_type": "markdown",
   "metadata": {},
   "source": [
    "# Q7: Find names of sailors who’ve reserved only blue boats"
   ]
  },
  {
   "cell_type": "code",
   "execution_count": 109,
   "metadata": {},
   "outputs": [],
   "source": [
    "# RETURNS DISTINCT SAILOR NAMES\n",
    "# FINDS SAILORS WHO RESERVED BLUE BOATS \n",
    "# THEN FIND THE SAILORS WHO DIDN'T RESERVE OTHER COLORS"
   ]
  },
  {
   "cell_type": "code",
   "execution_count": 110,
   "metadata": {},
   "outputs": [
    {
     "name": "stdout",
     "output_type": "stream",
     "text": [
      " * sqlite:///lab2.db3\n",
      "Done.\n"
     ]
    },
    {
     "data": {
      "text/html": [
       "<table>\n",
       "    <thead>\n",
       "        <tr>\n",
       "            <th>sname</th>\n",
       "        </tr>\n",
       "    </thead>\n",
       "    <tbody>\n",
       "        <tr>\n",
       "            <td>rusty</td>\n",
       "        </tr>\n",
       "        <tr>\n",
       "            <td>stephen</td>\n",
       "        </tr>\n",
       "    </tbody>\n",
       "</table>"
      ],
      "text/plain": [
       "[('rusty',), ('stephen',)]"
      ]
     },
     "execution_count": 110,
     "metadata": {},
     "output_type": "execute_result"
    }
   ],
   "source": [
    "%%sql\n",
    "SELECT S.sname\n",
    "FROM Sailors S, Reserves R, Boats B\n",
    "WHERE S.sid = R.sid AND R.bid = B.bid AND B.color = 'blue'\n",
    "EXCEPT\n",
    "SELECT DISTINCT S2.sname\n",
    "FROM Sailors S2, Reserves R2, Boats B2\n",
    "WHERE R2.sid = S2.sid AND R2.bid = B2.bid AND B2.color <> 'blue'"
   ]
  },
  {
   "cell_type": "code",
   "execution_count": null,
   "metadata": {},
   "outputs": [],
   "source": []
  },
  {
   "cell_type": "code",
   "execution_count": 111,
   "metadata": {},
   "outputs": [
    {
     "name": "stdout",
     "output_type": "stream",
     "text": [
      " * sqlite:///lab2.db3\n",
      "Done.\n"
     ]
    },
    {
     "data": {
      "text/html": [
       "<table>\n",
       "    <thead>\n",
       "        <tr>\n",
       "            <th>sname</th>\n",
       "        </tr>\n",
       "    </thead>\n",
       "    <tbody>\n",
       "        <tr>\n",
       "            <td>rusty</td>\n",
       "        </tr>\n",
       "        <tr>\n",
       "            <td>stephen</td>\n",
       "        </tr>\n",
       "    </tbody>\n",
       "</table>"
      ],
      "text/plain": [
       "[('rusty',), ('stephen',)]"
      ]
     },
     "execution_count": 111,
     "metadata": {},
     "output_type": "execute_result"
    }
   ],
   "source": [
    "%%sql\n",
    "SELECT SNAME\n",
    "FROM Sailors NATURAL JOIN Boats NATURAL JOIN Reserves\n",
    "WHERE Boats.color = \"blue\"\n",
    "EXCEPT\n",
    "SELECT SNAME\n",
    "FROM Sailors NATURAL JOIN Boats NATURAL JOIN Reserves\n",
    "WHERE Boats.color <> \"blue\";"
   ]
  }
 ],
 "metadata": {
  "kernelspec": {
   "display_name": "Python 3",
   "language": "python",
   "name": "python3"
  },
  "language_info": {
   "codemirror_mode": {
    "name": "ipython",
    "version": 3
   },
   "file_extension": ".py",
   "mimetype": "text/x-python",
   "name": "python",
   "nbconvert_exporter": "python",
   "pygments_lexer": "ipython3",
   "version": "3.8.5"
  }
 },
 "nbformat": 4,
 "nbformat_minor": 4
}
