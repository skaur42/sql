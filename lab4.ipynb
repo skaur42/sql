{
 "cells": [
  {
   "cell_type": "code",
   "execution_count": 348,
   "metadata": {},
   "outputs": [
    {
     "name": "stdout",
     "output_type": "stream",
     "text": [
      "The sql extension is already loaded. To reload it, use:\n",
      "  %reload_ext sql\n"
     ]
    },
    {
     "data": {
      "text/plain": [
       "'Connected: @lab4.db3'"
      ]
     },
     "execution_count": 348,
     "metadata": {},
     "output_type": "execute_result"
    }
   ],
   "source": [
    "%load_ext sql\n",
    "%sql sqlite:///lab4.db3"
   ]
  },
  {
   "cell_type": "markdown",
   "metadata": {},
   "source": [
    "# Q1: A is a superkey for a relation T (A, B, C, D)."
   ]
  },
  {
   "cell_type": "code",
   "execution_count": 349,
   "metadata": {},
   "outputs": [],
   "source": [
    "# TABLE THAT HOLDS THE CONDITION (A IS A SUPERKEY)"
   ]
  },
  {
   "cell_type": "code",
   "execution_count": 350,
   "metadata": {},
   "outputs": [
    {
     "name": "stdout",
     "output_type": "stream",
     "text": [
      "   sqlite:///lab2.db3\n",
      " * sqlite:///lab4.db3\n",
      "Done.\n",
      "1 rows affected.\n",
      "1 rows affected.\n",
      "1 rows affected.\n",
      "1 rows affected.\n",
      "1 rows affected.\n"
     ]
    },
    {
     "data": {
      "text/plain": [
       "[]"
      ]
     },
     "execution_count": 350,
     "metadata": {},
     "output_type": "execute_result"
    }
   ],
   "source": [
    "%%sql\n",
    "CREATE TABLE T (\n",
    "    A int PRIMARY KEY,\n",
    "    B int,\n",
    "    C int,\n",
    "    D int\n",
    ");\n",
    "INSERT INTO T VALUES (1,2,3,4);\n",
    "INSERT INTO T VALUES (2,3,3,4);\n",
    "INSERT INTO T VALUES (3,5,3,4);\n",
    "INSERT INTO T VALUES (4,4,3,4);\n",
    "INSERT INTO T VALUES (5,3,3,4);"
   ]
  },
  {
   "cell_type": "code",
   "execution_count": 351,
   "metadata": {},
   "outputs": [],
   "source": [
    "# TABLE THAT FAILS THE CONDITION (A IS NOT A SUPERKEY)"
   ]
  },
  {
   "cell_type": "code",
   "execution_count": 352,
   "metadata": {},
   "outputs": [
    {
     "name": "stdout",
     "output_type": "stream",
     "text": [
      "   sqlite:///lab2.db3\n",
      " * sqlite:///lab4.db3\n",
      "Done.\n",
      "1 rows affected.\n",
      "1 rows affected.\n",
      "1 rows affected.\n",
      "1 rows affected.\n",
      "1 rows affected.\n"
     ]
    },
    {
     "data": {
      "text/plain": [
       "[]"
      ]
     },
     "execution_count": 352,
     "metadata": {},
     "output_type": "execute_result"
    }
   ],
   "source": [
    "%%sql\n",
    "CREATE TABLE T2 (\n",
    "    A2 int,\n",
    "    B2 int,\n",
    "    C2 int,\n",
    "    D2 int\n",
    ");\n",
    "INSERT INTO T2 VALUES (1,2,3,4);\n",
    "INSERT INTO T2 VALUES (2,3,3,4);\n",
    "INSERT INTO T2 VALUES (1,5,3,4);\n",
    "INSERT INTO T2 VALUES (4,4,3,4);\n",
    "INSERT INTO T2 VALUES (1,3,3,4);"
   ]
  },
  {
   "cell_type": "code",
   "execution_count": 353,
   "metadata": {},
   "outputs": [],
   "source": [
    "# COUNT THE VALUE OF A\n",
    "# IF THE VALUE OF A DOES NOT REPEAT IT IS A SUPERKEY\n",
    "# THIS CODE IS FOR THE TABLE THAT HOLDS THE CONDITION"
   ]
  },
  {
   "cell_type": "code",
   "execution_count": 354,
   "metadata": {},
   "outputs": [
    {
     "name": "stdout",
     "output_type": "stream",
     "text": [
      "   sqlite:///lab2.db3\n",
      " * sqlite:///lab4.db3\n",
      "Done.\n"
     ]
    },
    {
     "data": {
      "text/html": [
       "<table>\n",
       "    <thead>\n",
       "        <tr>\n",
       "            <th>A</th>\n",
       "            <th>COUNT(A)</th>\n",
       "        </tr>\n",
       "    </thead>\n",
       "    <tbody>\n",
       "        <tr>\n",
       "            <td>1</td>\n",
       "            <td>1</td>\n",
       "        </tr>\n",
       "        <tr>\n",
       "            <td>2</td>\n",
       "            <td>1</td>\n",
       "        </tr>\n",
       "        <tr>\n",
       "            <td>3</td>\n",
       "            <td>1</td>\n",
       "        </tr>\n",
       "        <tr>\n",
       "            <td>4</td>\n",
       "            <td>1</td>\n",
       "        </tr>\n",
       "        <tr>\n",
       "            <td>5</td>\n",
       "            <td>1</td>\n",
       "        </tr>\n",
       "    </tbody>\n",
       "</table>"
      ],
      "text/plain": [
       "[(1, 1), (2, 1), (3, 1), (4, 1), (5, 1)]"
      ]
     },
     "execution_count": 354,
     "metadata": {},
     "output_type": "execute_result"
    }
   ],
   "source": [
    "%%sql\n",
    "SELECT A, COUNT(A) \n",
    "FROM T \n",
    "GROUP BY A ORDER BY A;"
   ]
  },
  {
   "cell_type": "code",
   "execution_count": 355,
   "metadata": {},
   "outputs": [],
   "source": [
    "# COUNT THE VALUE OF A\n",
    "# IF THE VALUE OF A DOES REPEATS IT IS NOT A SUPERKEY\n",
    "# THIS CODE IS FOR THE TABLE THAT FAILS THE CONDITION"
   ]
  },
  {
   "cell_type": "code",
   "execution_count": 356,
   "metadata": {},
   "outputs": [
    {
     "name": "stdout",
     "output_type": "stream",
     "text": [
      "   sqlite:///lab2.db3\n",
      " * sqlite:///lab4.db3\n",
      "Done.\n"
     ]
    },
    {
     "data": {
      "text/html": [
       "<table>\n",
       "    <thead>\n",
       "        <tr>\n",
       "            <th>A2</th>\n",
       "            <th>COUNT(A2)</th>\n",
       "        </tr>\n",
       "    </thead>\n",
       "    <tbody>\n",
       "        <tr>\n",
       "            <td>1</td>\n",
       "            <td>3</td>\n",
       "        </tr>\n",
       "        <tr>\n",
       "            <td>2</td>\n",
       "            <td>1</td>\n",
       "        </tr>\n",
       "        <tr>\n",
       "            <td>4</td>\n",
       "            <td>1</td>\n",
       "        </tr>\n",
       "    </tbody>\n",
       "</table>"
      ],
      "text/plain": [
       "[(1, 3), (2, 1), (4, 1)]"
      ]
     },
     "execution_count": 356,
     "metadata": {},
     "output_type": "execute_result"
    }
   ],
   "source": [
    "%%sql\n",
    "SELECT A2, COUNT(A2) \n",
    "FROM T2\n",
    "GROUP BY A2 ORDER BY A2"
   ]
  },
  {
   "cell_type": "code",
   "execution_count": 357,
   "metadata": {},
   "outputs": [],
   "source": [
    "# RETURNS TRUE WHEN A IS A SUPERKEY\n",
    "# A IS A SUPERKEY WHEN IT IS UNIQUE / DOES NOT REPEAT"
   ]
  },
  {
   "cell_type": "code",
   "execution_count": 358,
   "metadata": {},
   "outputs": [
    {
     "name": "stdout",
     "output_type": "stream",
     "text": [
      "   sqlite:///lab2.db3\n",
      " * sqlite:///lab4.db3\n",
      "Done.\n"
     ]
    },
    {
     "data": {
      "text/html": [
       "<table>\n",
       "    <thead>\n",
       "        <tr>\n",
       "            <th>CASE WHEN EXISTS <br>      (<br>            SELECT * FROM T WHERE 1<br>      )<br>      THEN &#x27;TRUE&#x27;<br>      ELSE &#x27;FALSE&#x27;<br>   END</th>\n",
       "        </tr>\n",
       "    </thead>\n",
       "    <tbody>\n",
       "        <tr>\n",
       "            <td>TRUE</td>\n",
       "        </tr>\n",
       "    </tbody>\n",
       "</table>"
      ],
      "text/plain": [
       "[('TRUE',)]"
      ]
     },
     "execution_count": 358,
     "metadata": {},
     "output_type": "execute_result"
    }
   ],
   "source": [
    "%%sql\n",
    "SELECT\n",
    "      CASE WHEN EXISTS \n",
    "      (\n",
    "            SELECT * FROM T WHERE 1\n",
    "      )\n",
    "      THEN 'TRUE'\n",
    "      ELSE 'FALSE'\n",
    "   END"
   ]
  },
  {
   "cell_type": "markdown",
   "metadata": {},
   "source": [
    "# Q2: The combinations of two attributes in the relation T (A, B, C, D) are each keys."
   ]
  },
  {
   "cell_type": "code",
   "execution_count": 359,
   "metadata": {},
   "outputs": [],
   "source": [
    "# T1 -> AB, T2 -> CD"
   ]
  },
  {
   "cell_type": "code",
   "execution_count": 360,
   "metadata": {},
   "outputs": [],
   "source": [
    "# TABLE THAT HOLDS THE CONDITION FROM Q2"
   ]
  },
  {
   "cell_type": "code",
   "execution_count": 361,
   "metadata": {},
   "outputs": [
    {
     "name": "stdout",
     "output_type": "stream",
     "text": [
      "   sqlite:///lab2.db3\n",
      " * sqlite:///lab4.db3\n",
      "Done.\n",
      "Done.\n",
      "1 rows affected.\n",
      "1 rows affected.\n",
      "1 rows affected.\n",
      "1 rows affected.\n",
      "1 rows affected.\n",
      "Done.\n",
      "Done.\n",
      "1 rows affected.\n",
      "1 rows affected.\n",
      "1 rows affected.\n",
      "1 rows affected.\n",
      "1 rows affected.\n"
     ]
    },
    {
     "data": {
      "text/plain": [
       "[]"
      ]
     },
     "execution_count": 361,
     "metadata": {},
     "output_type": "execute_result"
    }
   ],
   "source": [
    "%%sql\n",
    "drop table if exists T1;\n",
    "CREATE TABLE T1(\n",
    "    A int PRIMARY KEY,\n",
    "    B int\n",
    ");\n",
    "INSERT INTO T1 VALUES (1,2);\n",
    "INSERT INTO T1 VALUES (2,8);\n",
    "INSERT INTO T1 VALUES (3,6);\n",
    "INSERT INTO T1 VALUES (4,4);\n",
    "INSERT INTO T1 VALUES (5,10);\n",
    "\n",
    "drop table if exists T2;\n",
    "CREATE TABLE T2(\n",
    "    C int PRIMARY KEY,\n",
    "    D int\n",
    ");\n",
    "INSERT INTO T2 VALUES (1,2);\n",
    "INSERT INTO T2 VALUES (2,8);\n",
    "INSERT INTO T2 VALUES (3,6);\n",
    "INSERT INTO T2 VALUES (4,4);\n",
    "INSERT INTO T2 VALUES (5,10);"
   ]
  },
  {
   "cell_type": "code",
   "execution_count": 362,
   "metadata": {},
   "outputs": [],
   "source": [
    "# T1 -> AB, T2 -> CD\n",
    "# THIS CODE IS FOR THE TABLE THAT HOLDS THE CONDITION"
   ]
  },
  {
   "cell_type": "code",
   "execution_count": 363,
   "metadata": {},
   "outputs": [
    {
     "name": "stdout",
     "output_type": "stream",
     "text": [
      "   sqlite:///lab2.db3\n",
      " * sqlite:///lab4.db3\n",
      "Done.\n"
     ]
    },
    {
     "data": {
      "text/html": [
       "<table>\n",
       "    <thead>\n",
       "        <tr>\n",
       "            <th>A</th>\n",
       "            <th>B</th>\n",
       "        </tr>\n",
       "    </thead>\n",
       "    <tbody>\n",
       "        <tr>\n",
       "            <td>1</td>\n",
       "            <td>2</td>\n",
       "        </tr>\n",
       "        <tr>\n",
       "            <td>2</td>\n",
       "            <td>8</td>\n",
       "        </tr>\n",
       "        <tr>\n",
       "            <td>3</td>\n",
       "            <td>6</td>\n",
       "        </tr>\n",
       "        <tr>\n",
       "            <td>4</td>\n",
       "            <td>4</td>\n",
       "        </tr>\n",
       "        <tr>\n",
       "            <td>5</td>\n",
       "            <td>10</td>\n",
       "        </tr>\n",
       "    </tbody>\n",
       "</table>"
      ],
      "text/plain": [
       "[(1, 2), (2, 8), (3, 6), (4, 4), (5, 10)]"
      ]
     },
     "execution_count": 363,
     "metadata": {},
     "output_type": "execute_result"
    }
   ],
   "source": [
    "%%sql\n",
    "SELECT * \n",
    "FROM T1 \n",
    "WHERE A IN ( SELECT C \n",
    "             FROM T2 ) AND B IN ( SELECT D \n",
    "                                  FROM T2 );"
   ]
  },
  {
   "cell_type": "code",
   "execution_count": 364,
   "metadata": {},
   "outputs": [],
   "source": [
    "# TABLE THAT FAILS THE CONDITION FROM Q2"
   ]
  },
  {
   "cell_type": "code",
   "execution_count": 365,
   "metadata": {},
   "outputs": [
    {
     "name": "stdout",
     "output_type": "stream",
     "text": [
      "   sqlite:///lab2.db3\n",
      " * sqlite:///lab4.db3\n",
      "Done.\n",
      "Done.\n",
      "1 rows affected.\n",
      "1 rows affected.\n",
      "1 rows affected.\n",
      "1 rows affected.\n",
      "1 rows affected.\n",
      "Done.\n",
      "Done.\n",
      "1 rows affected.\n",
      "1 rows affected.\n",
      "1 rows affected.\n",
      "1 rows affected.\n",
      "1 rows affected.\n"
     ]
    },
    {
     "data": {
      "text/plain": [
       "[]"
      ]
     },
     "execution_count": 365,
     "metadata": {},
     "output_type": "execute_result"
    }
   ],
   "source": [
    "%%sql\n",
    "drop table if exists T1;\n",
    "CREATE TABLE T1(\n",
    "    A int,\n",
    "    B int\n",
    ");\n",
    "INSERT INTO T1 VALUES (1,2);\n",
    "INSERT INTO T1 VALUES (2,8);\n",
    "INSERT INTO T1 VALUES (3,6);\n",
    "INSERT INTO T1 VALUES (4,4);\n",
    "INSERT INTO T1 VALUES (5,10);\n",
    "\n",
    "drop table if exists T2;\n",
    "CREATE TABLE T2(\n",
    "    C int,\n",
    "    D int\n",
    ");\n",
    "INSERT INTO T2 VALUES (6,2);\n",
    "INSERT INTO T2 VALUES (7,8);\n",
    "INSERT INTO T2 VALUES (8,6);\n",
    "INSERT INTO T2 VALUES (9,4);\n",
    "INSERT INTO T2 VALUES (10,10);"
   ]
  },
  {
   "cell_type": "code",
   "execution_count": 366,
   "metadata": {},
   "outputs": [],
   "source": [
    "# THIS CODE IS FOR THE TABLE THAT FAILS THE CONDITION"
   ]
  },
  {
   "cell_type": "code",
   "execution_count": 367,
   "metadata": {},
   "outputs": [
    {
     "name": "stdout",
     "output_type": "stream",
     "text": [
      "   sqlite:///lab2.db3\n",
      " * sqlite:///lab4.db3\n",
      "Done.\n"
     ]
    },
    {
     "data": {
      "text/html": [
       "<table>\n",
       "    <thead>\n",
       "        <tr>\n",
       "            <th>A</th>\n",
       "            <th>B</th>\n",
       "        </tr>\n",
       "    </thead>\n",
       "    <tbody>\n",
       "    </tbody>\n",
       "</table>"
      ],
      "text/plain": [
       "[]"
      ]
     },
     "execution_count": 367,
     "metadata": {},
     "output_type": "execute_result"
    }
   ],
   "source": [
    "%%sql\n",
    "SELECT * \n",
    "FROM T1 \n",
    "WHERE A IN ( SELECT C \n",
    "             FROM T2 ) AND B IN ( SELECT D \n",
    "                                  FROM T2 );"
   ]
  },
  {
   "cell_type": "markdown",
   "metadata": {},
   "source": [
    "# Q3: Consider three tables Sailors(sid, sname, rating, age), Reserves(sid, bid, sname, bname, date) and Boats(bid, bname, color); Check for a TGD between Sailors and Reserves."
   ]
  },
  {
   "cell_type": "code",
   "execution_count": 368,
   "metadata": {},
   "outputs": [],
   "source": [
    "# CREATE TABLES FOR SAILORS, RESERVES, AND BOATS\n",
    "# CONDITION HOLDS"
   ]
  },
  {
   "cell_type": "code",
   "execution_count": 369,
   "metadata": {},
   "outputs": [
    {
     "name": "stdout",
     "output_type": "stream",
     "text": [
      "   sqlite:///lab2.db3\n",
      " * sqlite:///lab4.db3\n",
      "Done.\n",
      "(sqlite3.OperationalError) no such column: “ABC”\n",
      "[SQL: INSERT INTO sailors VALUES(1, “ABC”, 5, 20);]\n",
      "(Background on this error at: http://sqlalche.me/e/13/e3q8)\n"
     ]
    }
   ],
   "source": [
    "%%sql\n",
    "\n",
    "CREATE TABLE sailors(\n",
    "    sid int primary key,\n",
    "    sname varchar(50),\n",
    "    rating int,\n",
    "    Age int\n",
    ");\n",
    "INSERT INTO sailors VALUES(1, “ABC”, 5, 20);\n",
    "INSERT INTO sailors VALUES(2, “FGHJ”, 5, 20);\n",
    "INSERT INTO sailors VALUES(3, “TYU”, 5, 20);\n",
    "INSERT INTO sailors VALUES(4, “DMN”, 5, 20);\n",
    "INSERT INTO sailors VALUES(5, “WQE”, 5, 20);\n",
    "\n",
    "CREATE TABLE Reserves (\n",
    "    sid int,\n",
    "    bid int,\n",
    "    sname varchar(50),\n",
    "    bname varchar(50),\n",
    "    Date date,\n",
    "    primary key(sid,bid)\n",
    ");\n",
    "INSERT INTO Reserves VALUES (1, 1, “ABC”, “KLJL”, “29-06-2021”);\n",
    "INSERT INTO Reserves VALUES (2, 2, “FGHJ”, “SDHF”, “29-06-2021”);\n",
    "INSERT INTO Reserves VALUES (3, 3, “TYU”, “CSKJ”, “29-06-2021”);\n",
    "INSERT INTO Reserves VALUES (4, 4, “DMN”, “WNCI”, “29-06-2021”);\n",
    "INSERT INTO Reserves VALUES (5, 5, “WQE”, “JKCB”, “29-06-2021”);\n",
    "\n",
    "CREATE TABLE Boats(\n",
    "    bid int primary key,\n",
    "    bname varchar(50),\n",
    "    color varchar(50)\n",
    ");"
   ]
  },
  {
   "cell_type": "code",
   "execution_count": 370,
   "metadata": {},
   "outputs": [
    {
     "name": "stdout",
     "output_type": "stream",
     "text": [
      "   sqlite:///lab2.db3\n",
      " * sqlite:///lab4.db3\n",
      "(sqlite3.OperationalError) no such table: Reserves\n",
      "[SQL: SELECT sid \n",
      "FROM Sailors \n",
      "WHERE sid IN ( SELECT distinct sid \n",
      "               FROM Reserves )]\n",
      "(Background on this error at: http://sqlalche.me/e/13/e3q8)\n"
     ]
    }
   ],
   "source": [
    "%%sql\n",
    "SELECT sid \n",
    "FROM Sailors \n",
    "WHERE sid IN ( SELECT distinct sid \n",
    "               FROM Reserves )"
   ]
  },
  {
   "cell_type": "code",
   "execution_count": 371,
   "metadata": {},
   "outputs": [],
   "source": [
    "# CREATE TABLES FOR SAILORS AND RESERVES\n",
    "# CONDITION FAILS"
   ]
  },
  {
   "cell_type": "code",
   "execution_count": 372,
   "metadata": {},
   "outputs": [
    {
     "name": "stdout",
     "output_type": "stream",
     "text": [
      "   sqlite:///lab2.db3\n",
      " * sqlite:///lab4.db3\n",
      "Done.\n",
      "Done.\n",
      "(sqlite3.OperationalError) no such column: “ABC”\n",
      "[SQL: INSERT INTO sailors VALUES(1, “ABC”, 5, 20);]\n",
      "(Background on this error at: http://sqlalche.me/e/13/e3q8)\n"
     ]
    }
   ],
   "source": [
    "%%sql\n",
    "drop table if exists sailors;\n",
    "CREATE TABLE sailors(\n",
    "    sid int,\n",
    "    sname varchar(50),\n",
    "    rating int,\n",
    "    Age int\n",
    ");\n",
    "INSERT INTO sailors VALUES(1, “ABC”, 5, 20);\n",
    "INSERT INTO sailors VALUES(2, “FGHJ”, 5, 20);\n",
    "INSERT INTO sailors VALUES(3, “TYU”, 5, 20);\n",
    "INSERT INTO sailors VALUES(1, “DMN”, 5, 20);\n",
    "INSERT INTO sailors VALUES(5, “WQE”, 5, 20);\n",
    "\n",
    "drop table if exists Reserves;\n",
    "CREATE TABLE Reserves (\n",
    "    sid int,\n",
    "    bid int,\n",
    "    sname varchar(50),\n",
    "    bname varchar(50),\n",
    "    Date date\n",
    ");\n",
    "INSERT INTO Reserves VALUES (1, 1, “ABC”, “KLJL”, “29-06-2021”);\n",
    "INSERT INTO Reserves VALUES (2, 2, “FGHJ”, “SDHF”, “29-06-2021”);\n",
    "INSERT INTO Reserves VALUES (3, 3, “TYU”, “CSKJ”, “29-06-2021”);\n",
    "INSERT INTO Reserves VALUES (1, 1, “DMN”, “WNCI”, “29-06-2021”);\n",
    "INSERT INTO Reserves VALUES (5, 5, “WQE”, “JKCB”, “29-06-2021”);"
   ]
  },
  {
   "cell_type": "code",
   "execution_count": 373,
   "metadata": {},
   "outputs": [
    {
     "name": "stdout",
     "output_type": "stream",
     "text": [
      "   sqlite:///lab2.db3\n",
      " * sqlite:///lab4.db3\n",
      "(sqlite3.OperationalError) no such table: Reserves\n",
      "[SQL: SELECT sid \n",
      "FROM Sailors \n",
      "WHERE sid IN ( SELECT distinct sid \n",
      "               FROM Reserves )]\n",
      "(Background on this error at: http://sqlalche.me/e/13/e3q8)\n"
     ]
    }
   ],
   "source": [
    "%%sql\n",
    "SELECT sid \n",
    "FROM Sailors \n",
    "WHERE sid IN ( SELECT distinct sid \n",
    "               FROM Reserves )"
   ]
  },
  {
   "cell_type": "markdown",
   "metadata": {},
   "source": [
    "# Q4: To simply the problem, we assume R = {A, B, C, D, E}, X = {A, B, C}, Y = {C, D, E}."
   ]
  },
  {
   "cell_type": "code",
   "execution_count": 374,
   "metadata": {},
   "outputs": [],
   "source": [
    "# CREATE TABLE R, X, AND Y"
   ]
  },
  {
   "cell_type": "code",
   "execution_count": 375,
   "metadata": {},
   "outputs": [
    {
     "name": "stdout",
     "output_type": "stream",
     "text": [
      "   sqlite:///lab2.db3\n",
      " * sqlite:///lab4.db3\n",
      "Done.\n",
      "1 rows affected.\n",
      "1 rows affected.\n",
      "1 rows affected.\n",
      "1 rows affected.\n",
      "1 rows affected.\n",
      "Done.\n",
      "1 rows affected.\n",
      "1 rows affected.\n",
      "1 rows affected.\n",
      "1 rows affected.\n",
      "1 rows affected.\n",
      "Done.\n",
      "1 rows affected.\n",
      "1 rows affected.\n",
      "1 rows affected.\n",
      "1 rows affected.\n",
      "1 rows affected.\n"
     ]
    },
    {
     "data": {
      "text/plain": [
       "[]"
      ]
     },
     "execution_count": 375,
     "metadata": {},
     "output_type": "execute_result"
    }
   ],
   "source": [
    "%%sql\n",
    "CREATE TABLE R (\n",
    "    A int PRIAMRY KEY,\n",
    "    B int,\n",
    "    C int,\n",
    "    D int,\n",
    "    E int\n",
    ");\n",
    "INSERT INTO R VALUES (1, 2, 3, 4, 5);\n",
    "INSERT INTO R VALUES (2, 7, 3, 4, 2);\n",
    "INSERT INTO R VALUES (3, 8, 3, 4, 3);\n",
    "INSERT INTO R VALUES (4, 6, 3, 4, 4);\n",
    "INSERT INTO R VALUES (5, 5, 9, 10, 2);\n",
    "\n",
    "CREATE TABLE X (\n",
    "    A int PRIAMRY KEY,\n",
    "    B int,\n",
    "    C int\n",
    ");\n",
    "INSERT INTO X VALUES (1, 2, 3);\n",
    "INSERT INTO X VALUES (2, 7, 3);\n",
    "INSERT INTO X VALUES (3, 8, 3);\n",
    "INSERT INTO X VALUES (4, 6, 3);\n",
    "INSERT INTO X VALUES (5, 5, 9);\n",
    "\n",
    "CREATE TABLE Y (\n",
    "    C int PRIAMRY KEY,\n",
    "    D int,\n",
    "    E int\n",
    ");\n",
    "INSERT INTO Y VALUES (3, 4, 5);\n",
    "INSERT INTO Y VALUES (3, 4, 2);\n",
    "INSERT INTO Y VALUES (3, 4, 3);\n",
    "INSERT INTO Y VALUES (3, 4, 4);\n",
    "INSERT INTO Y VALUES (9, 10, 2);"
   ]
  },
  {
   "cell_type": "code",
   "execution_count": 376,
   "metadata": {},
   "outputs": [
    {
     "name": "stdout",
     "output_type": "stream",
     "text": [
      "   sqlite:///lab2.db3\n",
      " * sqlite:///lab4.db3\n",
      "Done.\n"
     ]
    },
    {
     "data": {
      "text/html": [
       "<table>\n",
       "    <thead>\n",
       "        <tr>\n",
       "            <th>A</th>\n",
       "            <th>B</th>\n",
       "            <th>C</th>\n",
       "        </tr>\n",
       "    </thead>\n",
       "    <tbody>\n",
       "        <tr>\n",
       "            <td>1</td>\n",
       "            <td>2</td>\n",
       "            <td>3</td>\n",
       "        </tr>\n",
       "        <tr>\n",
       "            <td>2</td>\n",
       "            <td>7</td>\n",
       "            <td>3</td>\n",
       "        </tr>\n",
       "        <tr>\n",
       "            <td>3</td>\n",
       "            <td>8</td>\n",
       "            <td>3</td>\n",
       "        </tr>\n",
       "        <tr>\n",
       "            <td>4</td>\n",
       "            <td>6</td>\n",
       "            <td>3</td>\n",
       "        </tr>\n",
       "        <tr>\n",
       "            <td>5</td>\n",
       "            <td>5</td>\n",
       "            <td>9</td>\n",
       "        </tr>\n",
       "    </tbody>\n",
       "</table>"
      ],
      "text/plain": [
       "[(1, 2, 3), (2, 7, 3), (3, 8, 3), (4, 6, 3), (5, 5, 9)]"
      ]
     },
     "execution_count": 376,
     "metadata": {},
     "output_type": "execute_result"
    }
   ],
   "source": [
    "%%sql\n",
    "SELECT A, B, C \n",
    "FROM R \n",
    "WHERE EXISTS ( SELECT * \n",
    "               FROM X JOIN Y ON X.C = Y.C );"
   ]
  }
 ],
 "metadata": {
  "kernelspec": {
   "display_name": "Python 3",
   "language": "python",
   "name": "python3"
  },
  "language_info": {
   "codemirror_mode": {
    "name": "ipython",
    "version": 3
   },
   "file_extension": ".py",
   "mimetype": "text/x-python",
   "name": "python",
   "nbconvert_exporter": "python",
   "pygments_lexer": "ipython3",
   "version": "3.8.5"
  }
 },
 "nbformat": 4,
 "nbformat_minor": 4
}
